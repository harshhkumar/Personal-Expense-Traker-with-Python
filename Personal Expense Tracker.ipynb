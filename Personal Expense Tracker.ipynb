{
 "cells": [
  {
   "cell_type": "code",
   "execution_count": 7,
   "id": "c2824e62",
   "metadata": {},
   "outputs": [
    {
     "name": "stdout",
     "output_type": "stream",
     "text": [
      "Welcome to the Personal Expense Tracker!\n",
      "\n",
      "Personal Expense Tracker\n",
      "1. Add Expense\n",
      "2. View Expenses\n",
      "3. Visualize Expenses\n",
      "4. Exit\n",
      "Enter your choice: 1\n",
      "\n",
      "Add Expense\n",
      "Enter expense category: Food\n",
      "Enter expense amount: 6789\n",
      "Expense 'Food' with amount $6789.00 added successfully!\n",
      "\n",
      "Personal Expense Tracker\n",
      "1. Add Expense\n",
      "2. View Expenses\n",
      "3. Visualize Expenses\n",
      "4. Exit\n",
      "Enter your choice: 1\n",
      "\n",
      "Add Expense\n",
      "Enter expense category: stastionary\n",
      "Enter expense amount: 2345\n",
      "Expense 'stastionary' with amount $2345.00 added successfully!\n",
      "\n",
      "Personal Expense Tracker\n",
      "1. Add Expense\n",
      "2. View Expenses\n",
      "3. Visualize Expenses\n",
      "4. Exit\n",
      "Enter your choice: 1\n",
      "\n",
      "Add Expense\n",
      "Enter expense category: groceries\n",
      "Enter expense amount: 4563\n",
      "Expense 'groceries' with amount $4563.00 added successfully!\n",
      "\n",
      "Personal Expense Tracker\n",
      "1. Add Expense\n",
      "2. View Expenses\n",
      "3. Visualize Expenses\n",
      "4. Exit\n",
      "Enter your choice: 3\n",
      "\n",
      "Visualize Expenses\n"
     ]
    },
    {
     "data": {
      "image/png": "[encoded data removed]",
      "text/plain": [
       "<Figure size 432x288 with 1 Axes>"
      ]
     },
     "metadata": {
      "needs_background": "light"
     },
     "output_type": "display_data"
    },
    {
     "name": "stdout",
     "output_type": "stream",
     "text": [
      "\n",
      "Personal Expense Tracker\n",
      "1. Add Expense\n",
      "2. View Expenses\n",
      "3. Visualize Expenses\n",
      "4. Exit\n",
      "Enter your choice: 4\n",
      "Exiting the program.\n"
     ]
    }
   ],
   "source": [
    "import matplotlib.pyplot as plt\n",
    "\n",
    "expenses = []\n",
    "\n",
    "def main_menu():\n",
    "    print(\"\\nPersonal Expense Tracker\")\n",
    "    print(\"1. Add Expense\")\n",
    "    print(\"2. View Expenses\")\n",
    "    print(\"3. Visualize Expenses\")\n",
    "    print(\"4. Exit\")\n",
    "    choice = input(\"Enter your choice: \")\n",
    "    return choice\n",
    "\n",
    "def add_expense():\n",
    "    print(\"\\nAdd Expense\")\n",
    "    category = input(\"Enter expense category: \")\n",
    "    amount = float(input(\"Enter expense amount: \"))\n",
    "    expenses.append({\"category\": category, \"amount\": amount})\n",
    "    print(f\"Expense '{category}' with amount ${amount:.2f} added successfully!\")\n",
    "\n",
    "def view_expenses():\n",
    "    print(\"\\nView Expenses\")\n",
    "    if not expenses:\n",
    "        print(\"No expenses recorded yet.\")\n",
    "    else:\n",
    "        print(\"Expense List:\")\n",
    "        for idx, expense in enumerate(expenses, start=1):\n",
    "            print(f\"{idx}. Category: {expense['category']}, Amount: ${expense['amount']:.2f}\")\n",
    "\n",
    "def visualize_expenses():\n",
    "    print(\"\\nVisualize Expenses\")\n",
    "    if not expenses:\n",
    "        print(\"No expenses recorded yet.\")\n",
    "    else:\n",
    "        categories = [expense['category'] for expense in expenses]\n",
    "        amounts = [expense['amount'] for expense in expenses]\n",
    "        \n",
    "        plt.bar(categories, amounts)\n",
    "        plt.xlabel(\"Expense Category\")\n",
    "        plt.ylabel(\"Amount ($)\")\n",
    "        plt.title(\"Expense Distribution by Category\")\n",
    "        plt.xticks(rotation=45)\n",
    "        plt.tight_layout()\n",
    "        plt.show()\n",
    "\n",
    "def main():\n",
    "    while True:\n",
    "        choice = main_menu()\n",
    "        \n",
    "        if choice == \"1\":\n",
    "            add_expense()\n",
    "        elif choice == \"2\":\n",
    "            view_expenses()\n",
    "        elif choice == \"3\":\n",
    "            visualize_expenses()\n",
    "        elif choice == \"4\":\n",
    "            print(\"Exiting the program.\")\n",
    "            break\n",
    "        else:\n",
    "            print(\"Invalid choice. Please choose a valid option.\")\n",
    "\n",
    "if __name__ == \"__main__\":\n",
    "    print(\"Welcome to the Personal Expense Tracker!\")\n",
    "    main()"
   ]
  },
  {
   "cell_type": "code",
   "execution_count": null,
   "id": "b1e7e3ed",
   "metadata": {},
   "outputs": [],
   "source": []
  }
 ],
 "metadata": {
  "kernelspec": {
   "display_name": "Python 3 (ipykernel)",
   "language": "python",
   "name": "python3"
  },
  "language_info": {
   "codemirror_mode": {
    "name": "ipython",
    "version": 3
   },
   "file_extension": ".py",
   "mimetype": "text/x-python",
   "name": "python",
   "nbconvert_exporter": "python",
   "pygments_lexer": "ipython3",
   "version": "3.9.12"
  }
 },
 "nbformat": 4,
 "nbformat_minor": 5
}
